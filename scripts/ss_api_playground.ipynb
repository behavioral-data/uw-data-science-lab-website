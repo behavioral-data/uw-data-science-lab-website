{
 "cells": [
  {
   "cell_type": "code",
   "execution_count": 1,
   "metadata": {},
   "outputs": [],
   "source": [
    "from time import sleep\n",
    "import requests\n",
    "import json"
   ]
  },
  {
   "cell_type": "code",
   "execution_count": 57,
   "id": "49747a05-7957-4bd6-b6f2-e2481b1ec94b",
   "metadata": {},
   "outputs": [],
   "source": [
    "# toodos fix ** with missing venue, italizise authors"
   ]
  },
  {
   "cell_type": "code",
   "execution_count": 2,
   "metadata": {},
   "outputs": [],
   "source": [
    "author_ids = [\n",
    "    (1745524,    'Tim'),\n",
    "    (2230578,    'Leilani'),\n",
    "    (143711421,  'Alex'),\n",
    "]"
   ]
  },
  {
   "cell_type": "code",
   "execution_count": 3,
   "metadata": {},
   "outputs": [],
   "source": [
    "endpoint = 'https://api.semanticscholar.org/graph/v1/author/{:d}?fields=papers.authors,papers.year,papers.venue,papers.title,papers.url'"
   ]
  },
  {
   "cell_type": "code",
   "execution_count": 4,
   "metadata": {},
   "outputs": [
    {
     "name": "stdout",
     "output_type": "stream",
     "text": [
      "Getting papers by Tim\n",
      "Got 62 papers.\n",
      "Getting papers by Leilani\n",
      "Got 40 papers.\n",
      "Getting papers by Alex\n",
      "Got 40 papers.\n",
      "Finished. Got 141 papers total.\n"
     ]
    }
   ],
   "source": [
    "papers = {}\n",
    "# using dict to de-duplicate\n",
    "\n",
    "for author_id, name in author_ids:\n",
    "    print(f'Getting papers by {name}')\n",
    "    response = requests.get(endpoint.format(author_id))\n",
    "    response = response.json()\n",
    "    print(f'Got {len(response[\"papers\"]):,d} papers.')\n",
    "    \n",
    "    for paper in response['papers']:\n",
    "        papers[ paper['paperId'] ] = paper\n",
    "    \n",
    "    sleep(2)\n",
    "\n",
    "print(f'Finished. Got {len(papers):,d} papers total.')"
   ]
  },
  {
   "cell_type": "code",
   "execution_count": 26,
   "metadata": {},
   "outputs": [],
   "source": [
    "def format_authors(authors):\n",
    "    author_strs = []\n",
    "    for author in authors:\n",
    "        if (author['authorId'] is not None) and (int(author['authorId']) in author_ids):\n",
    "            author_strs.append('**'+author['name']+'**')\n",
    "        else:\n",
    "            author_strs.append(author['name'])\n",
    "            \n",
    "    return ', '.join(author_strs)"
   ]
  },
  {
   "cell_type": "code",
   "execution_count": 27,
   "metadata": {},
   "outputs": [],
   "source": [
    "def format_long_authors(authors):\n",
    "    if len(authors) > 6:\n",
    "        author_str = format_authors(authors[:6])\n",
    "        return author_str + ', *et al.*'\n",
    "    else:\n",
    "        return format_authors(authors)"
   ]
  },
  {
   "cell_type": "code",
   "execution_count": 28,
   "metadata": {},
   "outputs": [],
   "source": [
    "def format_paper(paper):\n",
    "    \n",
    "    title_str = '### [{title}]({url})'.format(**paper)\n",
    "    \n",
    "    venue_str = '*{venue}*'.format(**paper) if len(paper['venue'])>0 else ''\n",
    "    year_str  = '{year}'.format(**paper) if paper['year'] is not None else ''\n",
    "    \n",
    "    authors = format_long_authors(paper['authors'])\n",
    "    \n",
    "    return f'{title_str}\\n{authors}\\n{venue_str} {year_str}'"
   ]
  },
  {
   "cell_type": "code",
   "execution_count": 29,
   "metadata": {},
   "outputs": [],
   "source": [
    "def get_year(paper):\n",
    "    try: return int( paper['year'] )\n",
    "    except:\n",
    "        return 1900"
   ]
  },
  {
   "cell_type": "code",
   "execution_count": 30,
   "metadata": {},
   "outputs": [
    {
     "name": "stdout",
     "output_type": "stream",
     "text": [
      "Finished writing 141 papers to markdown.\n"
     ]
    }
   ],
   "source": [
    "with open('../publications.md', 'w') as f:\n",
    "    for paper in sorted(papers.values(), key=get_year, reverse=True):\n",
    "        f.write( format_paper(paper) )\n",
    "        f.write(3*'\\n')\n",
    "        \n",
    "print(f'Finished writing {len(papers):,d} papers to markdown.')"
   ]
  },
  {
   "cell_type": "code",
   "execution_count": 20,
   "metadata": {},
   "outputs": [
    {
     "data": {
      "text/plain": [
       "[{'authorId': '123521472', 'name': 'A. Shapiro'},\n",
       " {'authorId': '150247231', 'name': 'N. Marinsek'},\n",
       " {'authorId': '4889245', 'name': 'I. Clay'},\n",
       " {'authorId': '108681884', 'name': 'B. Bradshaw'},\n",
       " {'authorId': '104226726', 'name': 'E. Ramírez'},\n",
       " {'authorId': '108127403', 'name': 'J. Min'},\n",
       " {'authorId': '3430870', 'name': 'A. Trister'},\n",
       " {'authorId': '20431833', 'name': 'Yuedong Wang'},\n",
       " {'authorId': '1745524', 'name': 'Tim Althoff'},\n",
       " {'authorId': '1748978', 'name': 'L. Foschini'}]"
      ]
     },
     "execution_count": 20,
     "metadata": {},
     "output_type": "execute_result"
    }
   ],
   "source": [
    "list(papers.values())[0]['authors']"
   ]
  },
  {
   "cell_type": "code",
   "execution_count": 12,
   "metadata": {},
   "outputs": [
    {
     "data": {
      "text/plain": [
       "'Andrew Beam, M. Fiterau, Peter F. Schulam, J. Fries, Michael C. Hughes, Alexander B. Wiltschko, Jasper Snoek, N. Antropova, R. Ranganath, B. Jedynak, Tristan Naumann, Adrian V. Dalca, Tim Althoff, Shubhi Asthana, P. Tandon, J. Kandola, Alexander J. Ratner, M. Ghassemi'"
      ]
     },
     "execution_count": 12,
     "metadata": {},
     "output_type": "execute_result"
    }
   ],
   "source": [
    "format_authors( paper['authors'] )"
   ]
  },
  {
   "cell_type": "code",
   "execution_count": 13,
   "metadata": {},
   "outputs": [
    {
     "data": {
      "text/plain": [
       "{'paperId': '850ce029a5fb48885d67f43136d602f790bfbbfe',\n",
       " 'url': 'https://www.semanticscholar.org/paper/850ce029a5fb48885d67f43136d602f790bfbbfe',\n",
       " 'title': 'Machine Learning for Health ( ML 4 H )-What Parts of Healthcare are Ripe for Disruption by Machine Learning Right Now ?',\n",
       " 'venue': '',\n",
       " 'year': None,\n",
       " 'authors': [{'authorId': '143649421', 'name': 'Andrew Beam'},\n",
       "  {'authorId': '2592453', 'name': 'M. Fiterau'},\n",
       "  {'authorId': '145610328', 'name': 'Peter F. Schulam'},\n",
       "  {'authorId': '121010486', 'name': 'J. Fries'},\n",
       "  {'authorId': '2067786273', 'name': 'Michael C. Hughes'},\n",
       "  {'authorId': '49398909', 'name': 'Alexander B. Wiltschko'},\n",
       "  {'authorId': '144108062', 'name': 'Jasper Snoek'},\n",
       "  {'authorId': '38428647', 'name': 'N. Antropova'},\n",
       "  {'authorId': '2615814', 'name': 'R. Ranganath'},\n",
       "  {'authorId': '2521020', 'name': 'B. Jedynak'},\n",
       "  {'authorId': '40466858', 'name': 'Tristan Naumann'},\n",
       "  {'authorId': '3046516', 'name': 'Adrian V. Dalca'},\n",
       "  {'authorId': '1745524', 'name': 'Tim Althoff'},\n",
       "  {'authorId': '15132482', 'name': 'Shubhi Asthana'},\n",
       "  {'authorId': '2075399683', 'name': 'P. Tandon'},\n",
       "  {'authorId': '145536952', 'name': 'J. Kandola'},\n",
       "  {'authorId': '143711421', 'name': 'Alexander J. Ratner'},\n",
       "  {'authorId': '2804918', 'name': 'M. Ghassemi'}]}"
      ]
     },
     "execution_count": 13,
     "metadata": {},
     "output_type": "execute_result"
    }
   ],
   "source": [
    "paper"
   ]
  },
  {
   "cell_type": "code",
   "execution_count": 14,
   "metadata": {},
   "outputs": [
    {
     "data": {
      "text/plain": [
       "True"
      ]
     },
     "execution_count": 14,
     "metadata": {},
     "output_type": "execute_result"
    }
   ],
   "source": [
    "paper['authors'][1]['authorId'] is not None"
   ]
  },
  {
   "cell_type": "code",
   "execution_count": 24,
   "metadata": {},
   "outputs": [
    {
     "data": {
      "text/plain": [
       "179"
      ]
     },
     "execution_count": 24,
     "metadata": {},
     "output_type": "execute_result"
    }
   ],
   "source": [
    "len( papers['689eef847d84b8a37c384260525707bc7df30cc2']['authors'] )"
   ]
  },
  {
   "cell_type": "code",
   "execution_count": 25,
   "metadata": {},
   "outputs": [
    {
     "data": {
      "text/plain": [
       "'Martin Schweinsberg, Michael Feldman, N. Staub, O. V. D. Akker, R. V. Aert, M. V. Assen, *et al.*'"
      ]
     },
     "execution_count": 25,
     "metadata": {},
     "output_type": "execute_result"
    }
   ],
   "source": [
    "format_long_authors( papers['689eef847d84b8a37c384260525707bc7df30cc2']['authors'] )"
   ]
  },
  {
   "cell_type": "code",
   "execution_count": null,
   "metadata": {},
   "outputs": [],
   "source": []
  }
 ],
 "metadata": {
  "kernelspec": {
   "display_name": "Python [conda env:reddit]",
   "language": "python",
   "name": "conda-env-reddit-py"
  },
  "language_info": {
   "codemirror_mode": {
    "name": "ipython",
    "version": 3
   },
   "file_extension": ".py",
   "mimetype": "text/x-python",
   "name": "python",
   "nbconvert_exporter": "python",
   "pygments_lexer": "ipython3",
   "version": "3.8.10"
  }
 },
 "nbformat": 4,
 "nbformat_minor": 5
}
