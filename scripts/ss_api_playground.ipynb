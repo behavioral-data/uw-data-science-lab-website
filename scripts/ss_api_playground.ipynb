{
 "cells": [
  {
   "cell_type": "code",
   "execution_count": 1,
   "id": "8dd208f5-a6cd-4138-9451-0acd4730f806",
   "metadata": {},
   "outputs": [],
   "source": [
    "from time import sleep\n",
    "import requests\n",
    "import json"
   ]
  },
  {
   "cell_type": "code",
   "execution_count": 2,
   "id": "33519a83-64f7-404d-b66d-b447db95cdb7",
   "metadata": {},
   "outputs": [],
   "source": [
    "author_ids = [\n",
    "    (1745524,    'Tim'),\n",
    "    (2230578,    'Leilani'),\n",
    "    (143711421,  'Alex'),\n",
    "]"
   ]
  },
  {
   "cell_type": "code",
   "execution_count": 3,
   "id": "033375ce-820f-4c2d-9d68-d4f0158cc251",
   "metadata": {},
   "outputs": [],
   "source": [
    "endpoint = 'https://api.semanticscholar.org/graph/v1/author/{:d}?fields=papers.authors,papers.year,papers.venue,papers.title,papers.url'"
   ]
  },
  {
   "cell_type": "code",
   "execution_count": 6,
   "id": "76cf5fb2-312c-4e09-8bf9-8614e792f0b3",
   "metadata": {},
   "outputs": [
    {
     "name": "stdout",
     "output_type": "stream",
     "text": [
      "Getting papers by Tim\n",
      "Got 62 papers.\n",
      "Getting papers by Leilani\n",
      "Got 39 papers.\n",
      "Getting papers by Alex\n",
      "Got 40 papers.\n",
      "Finished. Got 140 papers total.\n"
     ]
    }
   ],
   "source": [
    "papers = {}\n",
    "# using dict to de-duplicate\n",
    "\n",
    "for author_id, name in author_ids:\n",
    "    print(f'Getting papers by {name}')\n",
    "    response = requests.get(endpoint.format(author_id))\n",
    "    response = response.json()\n",
    "    print(f'Got {len(response[\"papers\"]):,d} papers.')\n",
    "    \n",
    "    for paper in response['papers']:\n",
    "        papers[ paper['paperId'] ] = paper\n",
    "    \n",
    "    sleep(2)\n",
    "\n",
    "print(f'Finished. Got {len(papers):,d} papers total.')"
   ]
  },
  {
   "cell_type": "code",
   "execution_count": 50,
   "id": "5fb9157f-b966-432a-9394-f51b6fdd8848",
   "metadata": {},
   "outputs": [],
   "source": [
    "def format_authors(authors):\n",
    "    author_strs = []\n",
    "    for author in authors:\n",
    "        if (author['authorId'] is not None) and (int(author['authorId']) in author_ids):\n",
    "            author_strs.append('**'+author['name']+'**')\n",
    "        else:\n",
    "            author_strs.append(author['name'])\n",
    "            \n",
    "    return ', '.join(author_strs)"
   ]
  },
  {
   "cell_type": "code",
   "execution_count": 51,
   "id": "0d96c855-c256-41d8-b99f-8d22e59d4882",
   "metadata": {},
   "outputs": [],
   "source": [
    "def format_paper(paper):\n",
    "    \n",
    "    title_str = '### [{title}]({url})'.format(**paper)\n",
    "    \n",
    "    venue_str = '*{venue}* {year}'.format(**paper)\n",
    "    \n",
    "    authors = format_authors(paper['authors'])\n",
    "    \n",
    "    return f'{title_str}\\n{authors}\\n\\n{venue_str}'"
   ]
  },
  {
   "cell_type": "code",
   "execution_count": 52,
   "id": "1eb31308-b8d1-4f8b-bf6a-b9b76912ece3",
   "metadata": {},
   "outputs": [],
   "source": [
    "def get_year(paper):\n",
    "    try: return int( paper['year'] )\n",
    "    except:\n",
    "        return 1900"
   ]
  },
  {
   "cell_type": "code",
   "execution_count": 53,
   "id": "9c9a5575-322a-4f12-bfd0-94ed99d16516",
   "metadata": {},
   "outputs": [
    {
     "name": "stdout",
     "output_type": "stream",
     "text": [
      "Finished writing 140 papers to markdown.\n"
     ]
    }
   ],
   "source": [
    "with open('../papers.md', 'w') as f:\n",
    "    for paper in sorted(papers.values(), key=get_year, reverse=True):\n",
    "        f.write( format_paper(paper) )\n",
    "        f.write(3*'\\n')\n",
    "        \n",
    "print(f'Finished writing {len(papers):,d} papers to markdown.')"
   ]
  },
  {
   "cell_type": "code",
   "execution_count": 54,
   "id": "f25dcf6b-9c04-4ec4-a26b-5634f15089b8",
   "metadata": {},
   "outputs": [
    {
     "data": {
      "text/plain": [
       "[{'authorId': '123521472', 'name': 'A. Shapiro'},\n",
       " {'authorId': '150247231', 'name': 'N. Marinsek'},\n",
       " {'authorId': '4889245', 'name': 'I. Clay'},\n",
       " {'authorId': '108681884', 'name': 'B. Bradshaw'},\n",
       " {'authorId': '104226726', 'name': 'E. Ramírez'},\n",
       " {'authorId': '108127403', 'name': 'J. Min'},\n",
       " {'authorId': '3430870', 'name': 'A. Trister'},\n",
       " {'authorId': '20431833', 'name': 'Yuedong Wang'},\n",
       " {'authorId': '1745524', 'name': 'Tim Althoff'},\n",
       " {'authorId': '1748978', 'name': 'L. Foschini'}]"
      ]
     },
     "execution_count": 54,
     "metadata": {},
     "output_type": "execute_result"
    }
   ],
   "source": [
    "list(papers.values())[0]['authors']"
   ]
  },
  {
   "cell_type": "code",
   "execution_count": 55,
   "id": "7ea952a0-ca3d-404b-9224-21b5d6e54edb",
   "metadata": {},
   "outputs": [
    {
     "data": {
      "text/plain": [
       "'Andrew Beam, M. Fiterau, Peter F. Schulam, J. Fries, Michael C. Hughes, Alexander B. Wiltschko, Jasper Snoek, N. Antropova, R. Ranganath, B. Jedynak, Tristan Naumann, Adrian V. Dalca, Tim Althoff, Shubhi Asthana, P. Tandon, J. Kandola, Alexander J. Ratner, M. Ghassemi'"
      ]
     },
     "execution_count": 55,
     "metadata": {},
     "output_type": "execute_result"
    }
   ],
   "source": [
    "format_authors( paper['authors'] )"
   ]
  },
  {
   "cell_type": "code",
   "execution_count": 56,
   "id": "9a3b2fbe-04a1-4e80-ac0f-c347cdc1cefc",
   "metadata": {},
   "outputs": [
    {
     "data": {
      "text/plain": [
       "{'paperId': '850ce029a5fb48885d67f43136d602f790bfbbfe',\n",
       " 'url': 'https://www.semanticscholar.org/paper/850ce029a5fb48885d67f43136d602f790bfbbfe',\n",
       " 'title': 'Machine Learning for Health ( ML 4 H )-What Parts of Healthcare are Ripe for Disruption by Machine Learning Right Now ?',\n",
       " 'venue': '',\n",
       " 'year': None,\n",
       " 'authors': [{'authorId': '143649421', 'name': 'Andrew Beam'},\n",
       "  {'authorId': '2592453', 'name': 'M. Fiterau'},\n",
       "  {'authorId': '145610328', 'name': 'Peter F. Schulam'},\n",
       "  {'authorId': '121010486', 'name': 'J. Fries'},\n",
       "  {'authorId': '2067786273', 'name': 'Michael C. Hughes'},\n",
       "  {'authorId': '49398909', 'name': 'Alexander B. Wiltschko'},\n",
       "  {'authorId': '144108062', 'name': 'Jasper Snoek'},\n",
       "  {'authorId': '38428647', 'name': 'N. Antropova'},\n",
       "  {'authorId': '2615814', 'name': 'R. Ranganath'},\n",
       "  {'authorId': '2521020', 'name': 'B. Jedynak'},\n",
       "  {'authorId': '40466858', 'name': 'Tristan Naumann'},\n",
       "  {'authorId': '3046516', 'name': 'Adrian V. Dalca'},\n",
       "  {'authorId': '1745524', 'name': 'Tim Althoff'},\n",
       "  {'authorId': '15132482', 'name': 'Shubhi Asthana'},\n",
       "  {'authorId': '2075399683', 'name': 'P. Tandon'},\n",
       "  {'authorId': '145536952', 'name': 'J. Kandola'},\n",
       "  {'authorId': '143711421', 'name': 'Alexander J. Ratner'},\n",
       "  {'authorId': '2804918', 'name': 'M. Ghassemi'}]}"
      ]
     },
     "execution_count": 56,
     "metadata": {},
     "output_type": "execute_result"
    }
   ],
   "source": [
    "paper"
   ]
  },
  {
   "cell_type": "code",
   "execution_count": 45,
   "id": "183bc4a1-2aec-49c2-8879-6745a020e791",
   "metadata": {},
   "outputs": [
    {
     "data": {
      "text/plain": [
       "False"
      ]
     },
     "execution_count": 45,
     "metadata": {},
     "output_type": "execute_result"
    }
   ],
   "source": [
    "paper['authors'][1]['authorId'] is not None"
   ]
  },
  {
   "cell_type": "code",
   "execution_count": null,
   "id": "07e9da0d-03ca-4d5c-9152-ed3668955c01",
   "metadata": {},
   "outputs": [],
   "source": []
  }
 ],
 "metadata": {
  "kernelspec": {
   "display_name": "Python 3",
   "language": "python",
   "name": "python3"
  },
  "language_info": {
   "codemirror_mode": {
    "name": "ipython",
    "version": 3
   },
   "file_extension": ".py",
   "mimetype": "text/x-python",
   "name": "python",
   "nbconvert_exporter": "python",
   "pygments_lexer": "ipython3",
   "version": "3.8.8"
  }
 },
 "nbformat": 4,
 "nbformat_minor": 5
}
